{
 "cells": [
  {
   "cell_type": "markdown",
   "metadata": {},
   "source": [
    "![Image of Yaktocat](https://seeders.nl/wp-content/uploads/2020/03/seeders-logo.png)\n",
    "## SERP Analyser\n",
    "*This notebook gets SERPs for top searched keywords in Europe and anlayses the top 10 results to gain insights for important SEO ranking factors across Europe.*\n",
    "\n",
    "We will analyse SERPS based on the following questions<br>\n",
    " - Is the domain exstension a ranking factor?<br>\n",
    " - ??"
   ]
  },
  {
   "cell_type": "markdown",
   "metadata": {},
   "source": [
    "### Import libraries"
   ]
  },
  {
   "cell_type": "code",
   "execution_count": 1,
   "metadata": {},
   "outputs": [],
   "source": [
    "import pandas as pd\n",
    "import gspread\n",
    "from gspread_dataframe import get_as_dataframe\n",
    "from oauth2client.service_account import ServiceAccountCredentials\n",
    "\n",
    "import requests as rq\n",
    "from requests import get\n",
    "from bs4 import BeautifulSoup\n",
    "import time\n",
    "from tqdm import tqdm\n",
    "from urllib.parse import urlparse\n",
    "\n",
    "import matplotlib.pyplot as plt \n",
    "import seaborn as sns"
   ]
  },
  {
   "cell_type": "markdown",
   "metadata": {},
   "source": [
    "### Get the data from google spreadsheets"
   ]
  },
  {
   "cell_type": "code",
   "execution_count": 6,
   "metadata": {},
   "outputs": [
    {
     "name": "stdout",
     "output_type": "stream",
     "text": [
      "Authorizing.......\n",
      "Opening.......\n"
     ]
    }
   ],
   "source": [
    "scope = ['https://spreadsheets.google.com/feeds', 'https://www.googleapis.com/auth/drive']\n",
    "# credentials = ServiceAccountCredentials.from_json_keyfile_name('C:/Users/Anne/PycharmProjects/crawlersAndscrapers/Scrapers and Crawlers-79156bc3792f.json', scope)\n",
    "credentials = ServiceAccountCredentials.from_json_keyfile_name('C:/Users/TJAwi/OneDrive/Bureaublad/githubSyncer/scrapers-and-crawlers-3e70bf97958c.json', scope)\n",
    "client = gspread.authorize(credentials)\n",
    "print(\"Authorizing.......\")\n",
    "\n",
    "spreadsheet_key = '1n6lCJTKjX6ZDlP8WSv_6ZNgq11SwFM_Owbkfo_hmCwo'\n",
    "print(\"Opening.......\")\n",
    "sheet = client.open(\"Zoekwoorden voor onderzoek\").sheet1"
   ]
  },
  {
   "cell_type": "markdown",
   "metadata": {},
   "source": [
    "### Clean the data"
   ]
  },
  {
   "cell_type": "code",
   "execution_count": 7,
   "metadata": {},
   "outputs": [
    {
     "data": {
      "text/html": [
       "<div>\n",
       "<style scoped>\n",
       "    .dataframe tbody tr th:only-of-type {\n",
       "        vertical-align: middle;\n",
       "    }\n",
       "\n",
       "    .dataframe tbody tr th {\n",
       "        vertical-align: top;\n",
       "    }\n",
       "\n",
       "    .dataframe thead tr th {\n",
       "        text-align: left;\n",
       "    }\n",
       "</style>\n",
       "<table border=\"1\" class=\"dataframe\">\n",
       "  <thead>\n",
       "    <tr>\n",
       "      <th></th>\n",
       "      <th>Nederland</th>\n",
       "      <th>Duitsland</th>\n",
       "      <th>Engeland</th>\n",
       "      <th>Spanje</th>\n",
       "      <th>Italie</th>\n",
       "      <th>Frankrijk</th>\n",
       "      <th>Portugal</th>\n",
       "      <th>Belgie</th>\n",
       "      <th>Denemarken</th>\n",
       "      <th>Zweden</th>\n",
       "      <th>Polen</th>\n",
       "    </tr>\n",
       "    <tr>\n",
       "      <th></th>\n",
       "      <th>Keyword</th>\n",
       "      <th>Keyword</th>\n",
       "      <th>Keyword</th>\n",
       "      <th>Keyword</th>\n",
       "      <th>Keyword</th>\n",
       "      <th>Keyword</th>\n",
       "      <th>Keyword</th>\n",
       "      <th>Keyword</th>\n",
       "      <th>Keyword</th>\n",
       "      <th>Keyword</th>\n",
       "      <th>Keyword</th>\n",
       "    </tr>\n",
       "  </thead>\n",
       "  <tbody>\n",
       "    <tr>\n",
       "      <th>0</th>\n",
       "      <td>autoverzekering</td>\n",
       "      <td>Autoversicherung</td>\n",
       "      <td>Car insurance</td>\n",
       "      <td>seguro coche</td>\n",
       "      <td>assicurazione auto</td>\n",
       "      <td>assurance auto</td>\n",
       "      <td>seguro automóvel</td>\n",
       "      <td>autoverzekering</td>\n",
       "      <td>bilforsikring</td>\n",
       "      <td>bilförsäkring</td>\n",
       "      <td>ubezpieczenie samochodu</td>\n",
       "    </tr>\n",
       "    <tr>\n",
       "      <th>1</th>\n",
       "      <td>sneakers</td>\n",
       "      <td>Sneakers</td>\n",
       "      <td>Sneakers</td>\n",
       "      <td>Sneakers</td>\n",
       "      <td>scarpe da ginnastica</td>\n",
       "      <td>sneakers</td>\n",
       "      <td>ténis</td>\n",
       "      <td>sneakers</td>\n",
       "      <td>sneakers</td>\n",
       "      <td>sneakers</td>\n",
       "      <td>sneakers</td>\n",
       "    </tr>\n",
       "    <tr>\n",
       "      <th>2</th>\n",
       "      <td>geld lenen</td>\n",
       "      <td>Geld leihen</td>\n",
       "      <td>Money loan</td>\n",
       "      <td>prestar dinero</td>\n",
       "      <td>prestiti</td>\n",
       "      <td>prêt</td>\n",
       "      <td>empréstimo</td>\n",
       "      <td>geld lenen</td>\n",
       "      <td>låne penge</td>\n",
       "      <td>låna pengar</td>\n",
       "      <td>pożyczka gotówkowa</td>\n",
       "    </tr>\n",
       "  </tbody>\n",
       "</table>\n",
       "</div>"
      ],
      "text/plain": [
       "         Nederland         Duitsland       Engeland          Spanje  \\\n",
       "           Keyword           Keyword        Keyword         Keyword   \n",
       "0  autoverzekering  Autoversicherung  Car insurance    seguro coche   \n",
       "1         sneakers          Sneakers       Sneakers        Sneakers   \n",
       "2       geld lenen       Geld leihen     Money loan  prestar dinero   \n",
       "\n",
       "                 Italie       Frankrijk          Portugal           Belgie  \\\n",
       "                Keyword         Keyword           Keyword          Keyword   \n",
       "0    assicurazione auto  assurance auto  seguro automóvel  autoverzekering   \n",
       "1  scarpe da ginnastica        sneakers             ténis         sneakers   \n",
       "2              prestiti            prêt        empréstimo       geld lenen   \n",
       "\n",
       "      Denemarken         Zweden                    Polen  \n",
       "         Keyword        Keyword                  Keyword  \n",
       "0  bilforsikring  bilförsäkring  ubezpieczenie samochodu  \n",
       "1       sneakers       sneakers                 sneakers  \n",
       "2     låne penge    låna pengar       pożyczka gotówkowa  "
      ]
     },
     "execution_count": 7,
     "metadata": {},
     "output_type": "execute_result"
    }
   ],
   "source": [
    "df = get_as_dataframe(sheet, header=[0,1])#GET ONLY ROWS POPULATED WITH DATA\n",
    "df = df[0:21]\n",
    "df = df.filter(regex='^((?!Unnamed).)*$', axis=1) #REMOVE ALL COLUMNS WHERE THE HEADER IS UNNAMED\n",
    "df = df.filter(regex='^((?!Volume).)*$', axis=1) #REMOVE ALL COLUMNS CONTAINING VAGUE SEARCH VOLUME DATA\n",
    "df = df.rename(columns=lambda x: x.strip()) #REMOVE WHITESPACE FROM COLUMN NAMES\n",
    "df.head(3)"
   ]
  },
  {
   "cell_type": "code",
   "execution_count": 8,
   "metadata": {},
   "outputs": [
    {
     "data": {
      "text/html": [
       "<div>\n",
       "<style scoped>\n",
       "    .dataframe tbody tr th:only-of-type {\n",
       "        vertical-align: middle;\n",
       "    }\n",
       "\n",
       "    .dataframe tbody tr th {\n",
       "        vertical-align: top;\n",
       "    }\n",
       "\n",
       "    .dataframe thead tr th {\n",
       "        text-align: left;\n",
       "    }\n",
       "</style>\n",
       "<table border=\"1\" class=\"dataframe\">\n",
       "  <thead>\n",
       "    <tr>\n",
       "      <th>Country</th>\n",
       "      <th>Nederland</th>\n",
       "      <th>Duitsland</th>\n",
       "    </tr>\n",
       "    <tr>\n",
       "      <th>Atts</th>\n",
       "      <th>Keyword</th>\n",
       "      <th>Keyword</th>\n",
       "    </tr>\n",
       "  </thead>\n",
       "  <tbody>\n",
       "    <tr>\n",
       "      <th>0</th>\n",
       "      <td>autoverzekering</td>\n",
       "      <td>Autoversicherung</td>\n",
       "    </tr>\n",
       "  </tbody>\n",
       "</table>\n",
       "</div>"
      ],
      "text/plain": [
       "Country        Nederland         Duitsland\n",
       "Atts             Keyword           Keyword\n",
       "0        autoverzekering  Autoversicherung"
      ]
     },
     "execution_count": 8,
     "metadata": {},
     "output_type": "execute_result"
    }
   ],
   "source": [
    "#Get only first two columns\n",
    "\n",
    "df = df.filter(items=[( 'Nederland', 'Keyword'),('Duitsland', 'Keyword')])\n",
    "df.columns.names = ['Country', 'Atts']\n",
    "df = df.head(1) #only test with one retry at a time\n",
    "df"
   ]
  },
  {
   "cell_type": "code",
   "execution_count": 9,
   "metadata": {},
   "outputs": [],
   "source": [
    "# testlist = ['een', 'twee', 'drie', 'vier' , 'vijf', 'zes', 'zeven', 'acht', 'negen', 'tien', 'elf', 'twaalf', 'dertien', 'viertien', 'vijftien', 'zestien', 'zeventien', 'achttien', 'negentien', 'twintig',' eenentwintig']"
   ]
  },
  {
   "cell_type": "markdown",
   "metadata": {},
   "source": [
    "### Build Google Search function"
   ]
  },
  {
   "cell_type": "code",
   "execution_count": 12,
   "metadata": {},
   "outputs": [],
   "source": [
    "def search(term, num_results=10, lang=\"nl\"): #column_name,\n",
    "    usr_agent = {\n",
    "        'User-Agent': 'Mozilla/5.0 (Windows NT 6.1; WOW64; rv:40.0) Gecko/20100101 Firefox/40.1'}\n",
    "\n",
    "    def fetch_results(search_term, number_results, language_code):\n",
    "        escaped_search_term = search_term.replace(' ', '+')\n",
    "\n",
    "        google_url = 'https://www.google.com/search?q={}&num={}&hl={}'.format(escaped_search_term, number_results+1,language_code)\n",
    "        \n",
    "#         nl_proxy = {\n",
    "            \n",
    "#           'http': 'http://82.165.135.211:8118',\n",
    "#           'https': 'http://82.165.135.211:8118',\n",
    "#         }\n",
    "        \n",
    "#         if column_name = 'Nederland':\n",
    "#             response = get(google_url, headers=usr_agent, proxies = nl_proxy)\n",
    "        \n",
    "        response = get(google_url, headers=usr_agent, stream=True) #proxies=nl_proxy,do the request\n",
    "\n",
    "        \n",
    "        if response.status_code == 200:  \n",
    "            succes_message = \"Succesfully connected to SERP\"\n",
    "            print(succes_message)\n",
    "        elif response.status_code == 429:\n",
    "#             print(rq.get_retry_after(response)) #seems not te be working?\n",
    "            print(\"429 bitch\")\n",
    "        response.raise_for_status()\n",
    "\n",
    "        print(\"Current IP  :\", response.raw._connection.sock.getsockname())\n",
    "\n",
    "        return response.text\n",
    "\n",
    "    def parse_results(raw_html):\n",
    "        soup = BeautifulSoup(raw_html, 'html.parser')\n",
    "        result_block = soup.find_all('div', attrs={'class': 'g'})\n",
    "        for result in result_block:\n",
    "            link = result.find('a', href=True)\n",
    "            title = result.find('h3')\n",
    "            if link and title:\n",
    "                yield link['href']\n",
    "                \n",
    "\n",
    "    html = fetch_results(term, num_results, lang)\n",
    "    return list(parse_results(html))"
   ]
  },
  {
   "cell_type": "code",
   "execution_count": 17,
   "metadata": {},
   "outputs": [
    {
     "name": "stdout",
     "output_type": "stream",
     "text": [
      "Current KW:     autoverzekering\n",
      "Sleeping for 2 seconds.....\n",
      "Succesfully connected to SERP\n",
      "Current IP  : ('192.168.2.100', 65164)\n",
      "Current KW:     Autoversicherung\n",
      "Sleeping for 2 seconds.....\n",
      "Succesfully connected to SERP\n",
      "Current IP  : ('192.168.2.100', 65168)\n"
     ]
    }
   ],
   "source": [
    "urls = []\n",
    "for column in df:\n",
    "    column_urls = []\n",
    "    kws = df[column]\n",
    "    for kw in kws:\n",
    "        print(\"Current KW:    \", kw)\n",
    "        temp = []\n",
    "        print(\"Sleeping for 2 seconds.....\")\n",
    "        time.sleep(2)\n",
    "        for j in search(kw):  #str(column[0])\n",
    "            temp.append(j)\n",
    "            while len(temp) > 10:\n",
    "                temp.pop()\n",
    "        column_urls.append(temp)\n",
    "    urls.append(column_urls)"
   ]
  },
  {
   "cell_type": "code",
   "execution_count": 16,
   "metadata": {},
   "outputs": [
    {
     "name": "stdout",
     "output_type": "stream",
     "text": [
      "2\n",
      "2\n",
      "('Duitsland', 'Keyword')\n",
      "('Duitsland', 'urls')\n",
      "('Nederland', 'Keyword')\n",
      "('Nederland', 'urls')\n"
     ]
    },
    {
     "data": {
      "text/plain": [
       "'\\nAlright fuckboi, \\n1. rewrite the above loop to functions. Either, updat the search funtion to take column(name) or see if you can \\nchange proxy within loop. \\n2. Test and find out how to print response code while requesting to ensure the 429 Retry After is printed when it occurs.\\n'"
      ]
     },
     "execution_count": 16,
     "metadata": {},
     "output_type": "execute_result"
    }
   ],
   "source": [
    "print(len(urls))\n",
    "test_urls = urls.copy()\n",
    "print(len(test_urls))\n",
    "\n",
    "for column in df:\n",
    "    print(column)\n",
    "    for countrylist in test_urls:\n",
    "        df[str(column[0]),'urls'] = countrylist\n",
    "        if len(urls) == 2:\n",
    "            test_urls.pop(0)\n",
    "        else:\n",
    "            pass\n",
    "        \n",
    "df = df.sort_index(axis=1)\n",
    "df\n",
    "\n",
    "'''\n",
    "Alright fuckboi, \n",
    "1. rewrite the above loop to functions. Either, updat the search funtion to take column(name) or see if you can \n",
    "change proxy within loop. \n",
    "1.1 Check how to print my current IP/location to check if changing proxy works. \n",
    "Don't forget to check the NordVPN library\n",
    "2. Test and find out how to print response code while requesting to ensure the 429 Retry After is printed when it occurs.\n",
    "'''"
   ]
  },
  {
   "cell_type": "code",
   "execution_count": null,
   "metadata": {},
   "outputs": [],
   "source": []
  }
 ],
 "metadata": {
  "kernelspec": {
   "display_name": "Python 3",
   "language": "python",
   "name": "python3"
  },
  "language_info": {
   "codemirror_mode": {
    "name": "ipython",
    "version": 3
   },
   "file_extension": ".py",
   "mimetype": "text/x-python",
   "name": "python",
   "nbconvert_exporter": "python",
   "pygments_lexer": "ipython3",
   "version": "3.8.3"
  }
 },
 "nbformat": 4,
 "nbformat_minor": 4
}
